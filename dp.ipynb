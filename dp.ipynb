{
  "nbformat": 4,
  "nbformat_minor": 0,
  "metadata": {
    "colab": {
      "provenance": [],
      "authorship_tag": "ABX9TyOYQ6UekQ+3e6nZ6htBfpmA"
    },
    "kernelspec": {
      "name": "python3",
      "display_name": "Python 3"
    },
    "language_info": {
      "name": "python"
    }
  },
  "cells": [
    {
      "cell_type": "code",
      "metadata": {
        "id": "JdbeXlemmRli"
      },
      "source": [
        "# Defining some utility functions.\n",
        "\n",
        "def array(n, initial_value=0):\n",
        "    return [initial_value] * n\n",
        "\n",
        "def matrix(n, m, initial_value=0):\n",
        "    return [array(m, initial_value) for _ in range(n)]"
      ],
      "execution_count": null,
      "outputs": []
    },
    {
      "cell_type": "markdown",
      "metadata": {
        "id": "ohcxqsGhZ1tz"
      },
      "source": [
        "# Tiling\n",
        "\n",
        "`2 x N` 크기의 바닥을 `1 x 2` 크기의 타일 또는 `2 x 1` 크기의 타일을 이용하여 빈 공간이 없도록 채우는 경우의 수를 구하시오. (단, 타일을 회전시킬 수 없다.)"
      ]
    },
    {
      "cell_type": "code",
      "metadata": {
        "colab": {
          "base_uri": "https://localhost:8080/"
        },
        "id": "7t1p-inuaWi9",
        "outputId": "a0ac53b0-67f6-4250-b4fd-6a4ff77f9529"
      },
      "source": [
        "def calc(n):\n",
        "    # dp[i] := Ways to fill 2 x i sized floor.\n",
        "    # ans := dp[n]\n",
        "    dp = array(n+1)\n",
        "    \n",
        "    # Initial conditions.\n",
        "    dp[1] = 1\n",
        "    dp[2] = 2\n",
        "\n",
        "    for i in range(3, n+1):\n",
        "        dp[i] = (\n",
        "            dp[i-1]     # num. of tilings ending with 2 x 1 tile.\n",
        "          + dp[i-2]     # num. of tilings ending with two 1 x 2 tiles.\n",
        "        )\n",
        "\n",
        "    return dp[n]\n",
        "\n",
        "print(calc(10))"
      ],
      "execution_count": null,
      "outputs": [
        {
          "output_type": "stream",
          "text": [
            "89\n"
          ],
          "name": "stdout"
        }
      ]
    },
    {
      "cell_type": "markdown",
      "metadata": {
        "id": "4pm2ixuTcBL6"
      },
      "source": [
        "# Stairs\n",
        "\n",
        "한 걸음에 1개 또는 2개 또는 3개의 계단을 올라갈 수 있다고 할 때, n개의 계단을 올라가는 방법의 수를 구하시오."
      ]
    },
    {
      "cell_type": "code",
      "metadata": {
        "colab": {
          "base_uri": "https://localhost:8080/"
        },
        "id": "rbMTib4Gc1Jg",
        "outputId": "ab67e8a8-cce4-42fe-dc39-4725a0c356cf"
      },
      "source": [
        "def calc(n):\n",
        "    dp = array(n+1)\n",
        "    dp[0] = 1\n",
        "\n",
        "    for i in range(1, n+1):\n",
        "        dp[i] = sum(\n",
        "            dp[i-x]\n",
        "            for x in (1, 2, 3)\n",
        "            if i >= x\n",
        "        )\n",
        "\n",
        "    return dp[n]\n",
        "\n",
        "print(calc(10))"
      ],
      "execution_count": null,
      "outputs": [
        {
          "output_type": "stream",
          "text": [
            "274\n"
          ],
          "name": "stdout"
        }
      ]
    },
    {
      "cell_type": "markdown",
      "metadata": {
        "id": "EL7-6MPQkEI4"
      },
      "source": [
        "# Coins\n",
        "\n",
        "1원, 7원, 10원의 동전으로 n원을 거슬러 주려고 한다. 최소의 동전 개수를 구하시오. (단, 각 동전은 충분히 많다.)"
      ]
    },
    {
      "cell_type": "code",
      "metadata": {
        "colab": {
          "base_uri": "https://localhost:8080/"
        },
        "id": "mW9PdtLklWxV",
        "outputId": "77f62542-96b7-4d17-95bf-fe6036468276"
      },
      "source": [
        "inf = float('inf')\n",
        "\n",
        "def calc(n):\n",
        "    dp = array(n+1)\n",
        "\n",
        "    for i in range(1, n+1):\n",
        "        dp[i] = min(\n",
        "            dp[i-x]+1 if i >= x else inf\n",
        "            for x in (1, 7, 10)\n",
        "        )\n",
        "\n",
        "    return dp[n]\n",
        "\n",
        "print(calc(128))"
      ],
      "execution_count": null,
      "outputs": [
        {
          "output_type": "stream",
          "text": [
            "14\n"
          ],
          "name": "stdout"
        }
      ]
    },
    {
      "cell_type": "markdown",
      "metadata": {
        "id": "kot_MIrMnYAA"
      },
      "source": [
        "# Min-cost Matrix Multiplication\n",
        "\n",
        "`a x b` 크기의 행렬과 `b x c` 크기의 행렬을 곱하면, 그 결과는 `a x c` 크기의 행렬이 되며 이 연산의 cost는 `a * b * c`이다.\n",
        "\n",
        "N개의 행렬을 곱할 때, 그 cost가 최소가 되도록 하는 연산 순서로 곱하였을 경우의 cost를 구하시오."
      ]
    },
    {
      "cell_type": "code",
      "metadata": {
        "colab": {
          "base_uri": "https://localhost:8080/"
        },
        "id": "aptuZEFLorJK",
        "outputId": "2be067f0-5555-497b-9524-dfd0adcc4c18"
      },
      "source": [
        "# O(n^3)\n",
        "\n",
        "def calc(A):\n",
        "    n = len(A)\n",
        "\n",
        "    for i in range(n-1):\n",
        "        assert A[i][1] == A[i+1][0]\n",
        "\n",
        "    dp = matrix(n, n)\n",
        "\n",
        "    for j in range(n):\n",
        "        for i in reversed(range(j)):\n",
        "            dp[i][j] = min(\n",
        "                dp[i][k] + dp[k+1][j] + (A[i][0] * A[k][1] * A[j][1])\n",
        "                for k in range(i, j)\n",
        "            )\n",
        "\n",
        "    return dp[0][n-1]\n",
        "\n",
        "A = [(1, 3), (3, 2), (2, 1), (1, 6), (6, 4), (4, 5)]\n",
        "print(calc(A))"
      ],
      "execution_count": null,
      "outputs": [
        {
          "output_type": "stream",
          "text": [
            "56\n"
          ],
          "name": "stdout"
        }
      ]
    },
    {
      "cell_type": "markdown",
      "metadata": {
        "id": "WKCiJDeopA9P"
      },
      "source": [
        "# Dice Sum\n",
        "\n",
        "하나의 주사위를 던질 때 1, 2, 3, 4, 5, 6의 수가 등장 할 수 있다.\n",
        "\n",
        "n개의 주사위를 던질 때, 모든 주사위의 눈의 합이 k가 되는 경우의 수를 구하시오."
      ]
    },
    {
      "cell_type": "code",
      "metadata": {
        "colab": {
          "base_uri": "https://localhost:8080/"
        },
        "id": "okjIGjf7rMu0",
        "outputId": "dda0fae9-caac-459b-e598-dff5b6e85b43"
      },
      "source": [
        "# O(n*k)\n",
        "\n",
        "def calc(n, k):\n",
        "    dp = matrix(n+1, k+1)\n",
        "    dp[0][0] = 1\n",
        "    \n",
        "    for i in range(1, n+1):\n",
        "        for j in range(1, k+1):\n",
        "            dp[i][j] = sum(\n",
        "                dp[i-1][j-x]\n",
        "                for x in (1, 2, 3, 4, 5, 6)\n",
        "                if j >= x\n",
        "            )\n",
        "    \n",
        "    return dp[n][k]\n",
        "\n",
        "print(calc(10, 35))"
      ],
      "execution_count": null,
      "outputs": [
        {
          "output_type": "stream",
          "text": [
            "4395456\n"
          ],
          "name": "stdout"
        }
      ]
    },
    {
      "cell_type": "markdown",
      "metadata": {
        "id": "cbxB-YkKrot4"
      },
      "source": [
        "# Digital Subset Sum\n",
        "\n",
        "한 자리 자연수로 이루어진 리스트 S와, 자연수 x가 주어진다.\n",
        "\n",
        "S의 부분집합 중 합이 x가 되는 것이 있는지 판별하시오."
      ]
    },
    {
      "cell_type": "code",
      "metadata": {
        "colab": {
          "base_uri": "https://localhost:8080/"
        },
        "id": "TguA763dZzRx",
        "outputId": "6b93a888-c245-44de-b31e-147f024167b4"
      },
      "source": [
        "# O(n * n)\n",
        "\n",
        "def calc(S, x):\n",
        "    n = len(S)\n",
        "\n",
        "    if x > sum(S):\n",
        "        return False\n",
        "\n",
        "    dp = matrix(n+1, x+1, initial_value=False)\n",
        "    dp[0][0] = True\n",
        "\n",
        "    for i in range(1, n+1):\n",
        "        v = S[i-1]\n",
        "        for j in range(x+1):\n",
        "            dp[i][j] = dp[i-1][j] or (dp[i-1][j-v] if j >= v else False)\n",
        "    \n",
        "    return dp[n][x]\n",
        "\n",
        "S = [4, 6, 9, 8, 8, 9]\n",
        "print(calc(S, 15))\n",
        "print(calc(S, 33))\n"
      ],
      "execution_count": null,
      "outputs": [
        {
          "output_type": "stream",
          "text": [
            "True\n",
            "False\n"
          ],
          "name": "stdout"
        }
      ]
    },
    {
      "cell_type": "markdown",
      "metadata": {
        "id": "gDLuvZxmse1q"
      },
      "source": [
        "# 0-1 Knapsack\n",
        "\n",
        "각각 무게 w와 가치 v를 가지는 물건 n개의 집합 S가 존재한다.\n",
        "\n",
        "무게의 합이 x를 넘지 않는 S의 부분집합 중, 가치의 합의 최댓값을 구하시오."
      ]
    },
    {
      "cell_type": "code",
      "metadata": {
        "colab": {
          "base_uri": "https://localhost:8080/"
        },
        "id": "vvsWSYMepgpW",
        "outputId": "8320e36c-0508-41a4-e9c6-98f5fd3e925f"
      },
      "source": [
        "def calc(S, x):\n",
        "    n = len(S)\n",
        "\n",
        "    dp = matrix(n+1, x+1)\n",
        "\n",
        "    for i in range(1, n+1):\n",
        "        wk, vk = S[i-1]\n",
        "        for j in range(x+1):\n",
        "            dp[i][j] = max(dp[i-1][j], (dp[i-1][j-wk]+vk if j >= wk else 0))\n",
        "    \n",
        "    return dp[n][x]\n",
        "\n",
        "S = [(5, 4), (6, 5), (7, 4), (6, 4), (8, 3), (9, 6)]\n",
        "print(calc(S, 15))"
      ],
      "execution_count": null,
      "outputs": [
        {
          "output_type": "stream",
          "text": [
            "11\n"
          ],
          "name": "stdout"
        }
      ]
    },
    {
      "cell_type": "markdown",
      "metadata": {
        "id": "-P5NtMs0thVJ"
      },
      "source": [
        "# DP Calculation Methods\n",
        "\n",
        "## Bottom-up\n",
        "\n",
        "*   `f(0) -> f(1) -> f(2) -> ... -> f(n)`\n",
        "*   Use tables, matrices, iterative update.\n",
        "*   Order of iteration is important.\n",
        "\n",
        "\n",
        "## Top-down\n",
        "\n",
        "*   `f(n) -> f(n-1) -> f(n-2) -> ... -> f(0)`\n",
        "*   Use recursion, memoization.\n",
        "*   Define base cases.\n",
        "*   (Python) Take care of recursion depth limit."
      ]
    },
    {
      "cell_type": "code",
      "metadata": {
        "colab": {
          "base_uri": "https://localhost:8080/"
        },
        "id": "CS-j7bdNubxd",
        "outputId": "a44668d8-ee3e-4b48-f17e-bebdd7a0ac1b"
      },
      "source": [
        "# 0-1 knapsack, recursion method.\n",
        "\n",
        "import sys\n",
        "sys.setrecursionlimit(10**9)\n",
        "\n",
        "done = dict()\n",
        "\n",
        "S = [(5, 4), (6, 5), (7, 4), (6, 4), (8, 3), (9, 6)]\n",
        "n = len(S)\n",
        "\n",
        "def f(i, w):\n",
        "    if (i, w) in done:\n",
        "        return done[(i, w)]\n",
        "\n",
        "    if w < 0:\n",
        "        return float('-inf')\n",
        "    \n",
        "    if i == 0:\n",
        "        return 0\n",
        "    \n",
        "    wk, vk = S[i-1]\n",
        "    res = max(f(i-1, w), f(i-1, w-wk)+vk)\n",
        "    done[(i, w)] = res\n",
        "    \n",
        "    return res\n",
        "\n",
        "print(f(n, 15))"
      ],
      "execution_count": null,
      "outputs": [
        {
          "output_type": "stream",
          "text": [
            "11\n"
          ],
          "name": "stdout"
        }
      ]
    },
    {
      "cell_type": "markdown",
      "metadata": {
        "id": "CimrzX7I5KNI"
      },
      "source": [
        "# Longest Palindromic Substring\n",
        "\n",
        "어떤 문자열의 substring은 그 문자열의 연속된 부분문자열이다.\n",
        "\n",
        "문자열 s가 주어졌을 때, s의 substring 중 뒤집어도 똑같은(palindromic) 문자열의 최대 길이를 구하시오."
      ]
    },
    {
      "cell_type": "code",
      "metadata": {
        "colab": {
          "base_uri": "https://localhost:8080/"
        },
        "id": "tDFlqBDM5tvh",
        "outputId": "c4de9406-9d1b-46fb-e4de-6c571f31b07c"
      },
      "source": [
        "def calc(s):\n",
        "    n = len(s)\n",
        "\n",
        "    # dp[i][j] := Is s[i:j] is palindromic?\n",
        "    dp = matrix(n+1, n+1, initial_value=True)\n",
        "\n",
        "    for length in range(2, n+1):\n",
        "        for j in range(length, n+1):\n",
        "            i = j - length\n",
        "            dp[i][j] = dp[i+1][j-1] and s[i] == s[j-1]\n",
        "    \n",
        "    ans = max(\n",
        "        j-i\n",
        "        for i in range(n+1)\n",
        "        for j in range(n+1)\n",
        "        if dp[i][j]\n",
        "    )\n",
        "\n",
        "    return ans\n",
        "\n",
        "print(calc(\"abcabcacabcbacab\"))"
      ],
      "execution_count": null,
      "outputs": [
        {
          "output_type": "stream",
          "text": [
            "9\n"
          ],
          "name": "stdout"
        }
      ]
    },
    {
      "cell_type": "markdown",
      "metadata": {
        "id": "ftJ2n6EFsjFN"
      },
      "source": [
        "# Longest Common Subseqence\n",
        "\n",
        "어떤 문자열의 subsequence는 그 문자열에서 문자를 제거하는 연산만을 이용하여 만들 수 있는 문자열이다.\n",
        "\n",
        "문자열 s와 t가 주어졌을 때, 두 문자열의 공통 subsequence의 최대 길이를 구하시오."
      ]
    },
    {
      "cell_type": "code",
      "metadata": {
        "colab": {
          "base_uri": "https://localhost:8080/"
        },
        "id": "hCeelvhw8KZD",
        "outputId": "2e7a9284-1070-46c7-beeb-361bf1dfe9af"
      },
      "source": [
        "def calc(s, t):\n",
        "    n = len(s)\n",
        "    m = len(t)\n",
        "    \n",
        "    dp = matrix(n+1, m+1)\n",
        "\n",
        "    for i in range(1, n+1):\n",
        "        for j in range(1, n+1):\n",
        "            dp[i][j] = max(\n",
        "                dp[i-1][j],\n",
        "                dp[i][j-1],\n",
        "                dp[i-1][j-1] + (s[i-1] == t[j-1])\n",
        "            )\n",
        "\n",
        "    return dp[n][m]\n",
        "\n",
        "print(calc(\"abcbabcbca\", \"babcaacbcb\"))"
      ],
      "execution_count": null,
      "outputs": [
        {
          "output_type": "stream",
          "text": [
            "7\n"
          ],
          "name": "stdout"
        }
      ]
    },
    {
      "cell_type": "markdown",
      "metadata": {
        "id": "EYvJluuG4o_p"
      },
      "source": [
        "# Longest Common Substring\n",
        "\n",
        "문자열 s와 t가 주어졌을 때, 두 문자열의 공통 substring의 최대 길이를 구하시오."
      ]
    },
    {
      "cell_type": "code",
      "metadata": {
        "colab": {
          "base_uri": "https://localhost:8080/"
        },
        "id": "eU7Ix2m_91G5",
        "outputId": "d98cd7d4-c4a5-41d3-9149-1d6287e1cf01"
      },
      "source": [
        "def calc(s, t):\n",
        "    n = len(s)\n",
        "    m = len(t)\n",
        "\n",
        "    dp = matrix(n+1, m+1)\n",
        "\n",
        "    for i in range(1, n+1):\n",
        "        for j in range(1, n+1):\n",
        "            if s[i-1] == t[j-1]:\n",
        "                dp[i][j] = dp[i-1][j-1] + 1\n",
        "\n",
        "    ans = max(\n",
        "        dp[i][j]\n",
        "        for i in range(n+1)\n",
        "        for j in range(n+1)\n",
        "    )\n",
        "\n",
        "    return ans\n",
        "\n",
        "print(calc(\"abcbabcbca\", \"babcaacbcb\"))"
      ],
      "execution_count": null,
      "outputs": [
        {
          "output_type": "stream",
          "text": [
            "4\n"
          ],
          "name": "stdout"
        }
      ]
    },
    {
      "cell_type": "markdown",
      "metadata": {
        "id": "KbHVH1WvyBn2"
      },
      "source": [
        "# Edit Distance\n",
        "\n",
        "문자열 s를 적절히 수정하여 문자열 t가 되도록 하려고 한다.\n",
        "\n",
        "다음과 같은 세 가지 종류의 연산이 가능하며, 각 연산의 cost는 1로 동일하다.\n",
        "\n",
        "*   s의 문자 중 하나를 삭제한다.\n",
        "*   s에 어느 곳이든 원하는 문자 하나를 추가 한다.\n",
        "*   s의 어떤 문자를 원하는 문자로 변경한다.\n",
        "\n",
        "s를 t로 바꾸는데에 필요한 cost의 최솟값을 구하시오.\n"
      ]
    },
    {
      "cell_type": "code",
      "metadata": {
        "id": "UNk4UsVZ_yg9"
      },
      "source": [
        "..."
      ],
      "execution_count": null,
      "outputs": []
    },
    {
      "cell_type": "markdown",
      "metadata": {
        "id": "EjirAYOUyEAh"
      },
      "source": [
        "# Longest Increasing Subsequence\n",
        "\n",
        "자연수의 리스트 A가 주어질 때, 그 subseqence 중 strictly increasing 한 리스트의 최대 길이를 구하시오."
      ]
    },
    {
      "cell_type": "code",
      "metadata": {
        "id": "Tyg7988-_0us"
      },
      "source": [
        "..."
      ],
      "execution_count": null,
      "outputs": []
    }
  ]
}